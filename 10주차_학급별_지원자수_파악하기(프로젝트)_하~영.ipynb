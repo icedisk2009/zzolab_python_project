{
  "nbformat": 4,
  "nbformat_minor": 0,
  "metadata": {
    "colab": {
      "provenance": [],
      "mount_file_id": "1UtRPH0uWgxTCKAAg1QVVSCyVVK3lQcgr",
      "authorship_tag": "ABX9TyONJHEd9EDrd+4R7WZg649y",
      "include_colab_link": true
    },
    "kernelspec": {
      "name": "python3",
      "display_name": "Python 3"
    },
    "language_info": {
      "name": "python"
    }
  },
  "cells": [
    {
      "cell_type": "markdown",
      "metadata": {
        "id": "view-in-github",
        "colab_type": "text"
      },
      "source": [
        "<a href=\"https://colab.research.google.com/github/icedisk2009/zzolab_python_project/blob/main/10%EC%A3%BC%EC%B0%A8_%ED%95%99%EA%B8%89%EB%B3%84_%EC%A7%80%EC%9B%90%EC%9E%90%EC%88%98_%ED%8C%8C%EC%95%85%ED%95%98%EA%B8%B0(%ED%94%84%EB%A1%9C%EC%A0%9D%ED%8A%B8)_%ED%95%98~%EC%98%81.ipynb\" target=\"_parent\"><img src=\"https://colab.research.google.com/assets/colab-badge.svg\" alt=\"Open In Colab\"/></a>"
      ]
    },
    {
      "cell_type": "markdown",
      "source": [
        "# 구글설문지 신청서 결과를 분석하기\n",
        "- 방법1. csv파일을 업로드 후 분석\n",
        "- 방법2. pandas의 groupby()사용후 분석\n",
        "- 깃허브: https://github.com/icedisk2009/zzolab_python_project.git"
      ],
      "metadata": {
        "id": "O8PGi8gbJu5g"
      }
    },
    {
      "cell_type": "markdown",
      "source": [
        "## 방법1. csv 파일을 업로드후 분석\n",
        "1) 일자(timestamp)만 추출하기\n",
        "\n",
        "2) 일자별 지원자수 파악을 위해 일자를 리스트로 만들기\n",
        " - 문제점: '5-', '6-'으로 시작하는 일자를 슬라이싱하여 리스트에 저장했으나 결과적으로 '6-5', '6-5-'가 생성됨\n",
        "\n",
        "3) 일자를 split('-')으로 분리후 리스트로 저장후 다시 묶어서 date에 저장한 리스트를 만듦\n",
        "4) 딕셔너리를 만들어 key()에 중복값이 허용안되는 성질을 이용해 일자를 key로, 일자의 반복 횟수를 value로 저장함.\n",
        "5) bar graph로 시각화 함\n",
        "\n"
      ],
      "metadata": {
        "id": "u0dOx9nuKKJs"
      }
    },
    {
      "cell_type": "code",
      "source": [
        "# 한글 폰트 설정\n",
        "!sudo apt-get install -y fonts-nanum\n",
        "!sudo fc-cache -fv\n",
        "!rm ~/.cache/matplotlib -rf"
      ],
      "metadata": {
        "colab": {
          "base_uri": "https://localhost:8080/"
        },
        "id": "PddgFUPpO6ms",
        "outputId": "44f9bc08-6e45-4e21-c20d-32512eb357e0"
      },
      "execution_count": 1,
      "outputs": [
        {
          "output_type": "stream",
          "name": "stdout",
          "text": [
            "Reading package lists... Done\n",
            "Building dependency tree... Done\n",
            "Reading state information... Done\n",
            "fonts-nanum is already the newest version (20200506-1).\n",
            "0 upgraded, 0 newly installed, 0 to remove and 45 not upgraded.\n",
            "/usr/share/fonts: caching, new cache contents: 0 fonts, 1 dirs\n",
            "/usr/share/fonts/truetype: caching, new cache contents: 0 fonts, 3 dirs\n",
            "/usr/share/fonts/truetype/humor-sans: caching, new cache contents: 1 fonts, 0 dirs\n",
            "/usr/share/fonts/truetype/liberation: caching, new cache contents: 16 fonts, 0 dirs\n",
            "/usr/share/fonts/truetype/nanum: caching, new cache contents: 12 fonts, 0 dirs\n",
            "/usr/local/share/fonts: caching, new cache contents: 0 fonts, 0 dirs\n",
            "/root/.local/share/fonts: skipping, no such directory\n",
            "/root/.fonts: skipping, no such directory\n",
            "/usr/share/fonts/truetype: skipping, looped directory detected\n",
            "/usr/share/fonts/truetype/humor-sans: skipping, looped directory detected\n",
            "/usr/share/fonts/truetype/liberation: skipping, looped directory detected\n",
            "/usr/share/fonts/truetype/nanum: skipping, looped directory detected\n",
            "/var/cache/fontconfig: cleaning cache directory\n",
            "/root/.cache/fontconfig: not cleaning non-existent cache directory\n",
            "/root/.fontconfig: not cleaning non-existent cache directory\n",
            "fc-cache: succeeded\n"
          ]
        }
      ]
    },
    {
      "cell_type": "code",
      "source": [
        "import matplotlib.pyplot as plt\n",
        "plt.rc('font', family = 'NanumGothic')\n",
        "plt.rcParams['axes.unicode_minus'] = False"
      ],
      "metadata": {
        "id": "8QMpJg1kO7wu"
      },
      "execution_count": 2,
      "outputs": []
    },
    {
      "cell_type": "code",
      "source": [
        "from google.colab import files\n",
        "data = files.upload()"
      ],
      "metadata": {
        "colab": {
          "base_uri": "https://localhost:8080/",
          "height": 112
        },
        "id": "WhRiPHyq3eYr",
        "outputId": "8eb53480-0e98-4df3-f75a-625a6ff59be7"
      },
      "execution_count": 3,
      "outputs": [
        {
          "output_type": "display_data",
          "data": {
            "text/plain": [
              "<IPython.core.display.HTML object>"
            ],
            "text/html": [
              "\n",
              "     <input type=\"file\" id=\"files-4ab284d7-1dc7-4238-a9fa-e9052c67ec8b\" name=\"files[]\" multiple disabled\n",
              "        style=\"border:none\" />\n",
              "     <output id=\"result-4ab284d7-1dc7-4238-a9fa-e9052c67ec8b\">\n",
              "      Upload widget is only available when the cell has been executed in the\n",
              "      current browser session. Please rerun this cell to enable.\n",
              "      </output>\n",
              "      <script>// Copyright 2017 Google LLC\n",
              "//\n",
              "// Licensed under the Apache License, Version 2.0 (the \"License\");\n",
              "// you may not use this file except in compliance with the License.\n",
              "// You may obtain a copy of the License at\n",
              "//\n",
              "//      http://www.apache.org/licenses/LICENSE-2.0\n",
              "//\n",
              "// Unless required by applicable law or agreed to in writing, software\n",
              "// distributed under the License is distributed on an \"AS IS\" BASIS,\n",
              "// WITHOUT WARRANTIES OR CONDITIONS OF ANY KIND, either express or implied.\n",
              "// See the License for the specific language governing permissions and\n",
              "// limitations under the License.\n",
              "\n",
              "/**\n",
              " * @fileoverview Helpers for google.colab Python module.\n",
              " */\n",
              "(function(scope) {\n",
              "function span(text, styleAttributes = {}) {\n",
              "  const element = document.createElement('span');\n",
              "  element.textContent = text;\n",
              "  for (const key of Object.keys(styleAttributes)) {\n",
              "    element.style[key] = styleAttributes[key];\n",
              "  }\n",
              "  return element;\n",
              "}\n",
              "\n",
              "// Max number of bytes which will be uploaded at a time.\n",
              "const MAX_PAYLOAD_SIZE = 100 * 1024;\n",
              "\n",
              "function _uploadFiles(inputId, outputId) {\n",
              "  const steps = uploadFilesStep(inputId, outputId);\n",
              "  const outputElement = document.getElementById(outputId);\n",
              "  // Cache steps on the outputElement to make it available for the next call\n",
              "  // to uploadFilesContinue from Python.\n",
              "  outputElement.steps = steps;\n",
              "\n",
              "  return _uploadFilesContinue(outputId);\n",
              "}\n",
              "\n",
              "// This is roughly an async generator (not supported in the browser yet),\n",
              "// where there are multiple asynchronous steps and the Python side is going\n",
              "// to poll for completion of each step.\n",
              "// This uses a Promise to block the python side on completion of each step,\n",
              "// then passes the result of the previous step as the input to the next step.\n",
              "function _uploadFilesContinue(outputId) {\n",
              "  const outputElement = document.getElementById(outputId);\n",
              "  const steps = outputElement.steps;\n",
              "\n",
              "  const next = steps.next(outputElement.lastPromiseValue);\n",
              "  return Promise.resolve(next.value.promise).then((value) => {\n",
              "    // Cache the last promise value to make it available to the next\n",
              "    // step of the generator.\n",
              "    outputElement.lastPromiseValue = value;\n",
              "    return next.value.response;\n",
              "  });\n",
              "}\n",
              "\n",
              "/**\n",
              " * Generator function which is called between each async step of the upload\n",
              " * process.\n",
              " * @param {string} inputId Element ID of the input file picker element.\n",
              " * @param {string} outputId Element ID of the output display.\n",
              " * @return {!Iterable<!Object>} Iterable of next steps.\n",
              " */\n",
              "function* uploadFilesStep(inputId, outputId) {\n",
              "  const inputElement = document.getElementById(inputId);\n",
              "  inputElement.disabled = false;\n",
              "\n",
              "  const outputElement = document.getElementById(outputId);\n",
              "  outputElement.innerHTML = '';\n",
              "\n",
              "  const pickedPromise = new Promise((resolve) => {\n",
              "    inputElement.addEventListener('change', (e) => {\n",
              "      resolve(e.target.files);\n",
              "    });\n",
              "  });\n",
              "\n",
              "  const cancel = document.createElement('button');\n",
              "  inputElement.parentElement.appendChild(cancel);\n",
              "  cancel.textContent = 'Cancel upload';\n",
              "  const cancelPromise = new Promise((resolve) => {\n",
              "    cancel.onclick = () => {\n",
              "      resolve(null);\n",
              "    };\n",
              "  });\n",
              "\n",
              "  // Wait for the user to pick the files.\n",
              "  const files = yield {\n",
              "    promise: Promise.race([pickedPromise, cancelPromise]),\n",
              "    response: {\n",
              "      action: 'starting',\n",
              "    }\n",
              "  };\n",
              "\n",
              "  cancel.remove();\n",
              "\n",
              "  // Disable the input element since further picks are not allowed.\n",
              "  inputElement.disabled = true;\n",
              "\n",
              "  if (!files) {\n",
              "    return {\n",
              "      response: {\n",
              "        action: 'complete',\n",
              "      }\n",
              "    };\n",
              "  }\n",
              "\n",
              "  for (const file of files) {\n",
              "    const li = document.createElement('li');\n",
              "    li.append(span(file.name, {fontWeight: 'bold'}));\n",
              "    li.append(span(\n",
              "        `(${file.type || 'n/a'}) - ${file.size} bytes, ` +\n",
              "        `last modified: ${\n",
              "            file.lastModifiedDate ? file.lastModifiedDate.toLocaleDateString() :\n",
              "                                    'n/a'} - `));\n",
              "    const percent = span('0% done');\n",
              "    li.appendChild(percent);\n",
              "\n",
              "    outputElement.appendChild(li);\n",
              "\n",
              "    const fileDataPromise = new Promise((resolve) => {\n",
              "      const reader = new FileReader();\n",
              "      reader.onload = (e) => {\n",
              "        resolve(e.target.result);\n",
              "      };\n",
              "      reader.readAsArrayBuffer(file);\n",
              "    });\n",
              "    // Wait for the data to be ready.\n",
              "    let fileData = yield {\n",
              "      promise: fileDataPromise,\n",
              "      response: {\n",
              "        action: 'continue',\n",
              "      }\n",
              "    };\n",
              "\n",
              "    // Use a chunked sending to avoid message size limits. See b/62115660.\n",
              "    let position = 0;\n",
              "    do {\n",
              "      const length = Math.min(fileData.byteLength - position, MAX_PAYLOAD_SIZE);\n",
              "      const chunk = new Uint8Array(fileData, position, length);\n",
              "      position += length;\n",
              "\n",
              "      const base64 = btoa(String.fromCharCode.apply(null, chunk));\n",
              "      yield {\n",
              "        response: {\n",
              "          action: 'append',\n",
              "          file: file.name,\n",
              "          data: base64,\n",
              "        },\n",
              "      };\n",
              "\n",
              "      let percentDone = fileData.byteLength === 0 ?\n",
              "          100 :\n",
              "          Math.round((position / fileData.byteLength) * 100);\n",
              "      percent.textContent = `${percentDone}% done`;\n",
              "\n",
              "    } while (position < fileData.byteLength);\n",
              "  }\n",
              "\n",
              "  // All done.\n",
              "  yield {\n",
              "    response: {\n",
              "      action: 'complete',\n",
              "    }\n",
              "  };\n",
              "}\n",
              "\n",
              "scope.google = scope.google || {};\n",
              "scope.google.colab = scope.google.colab || {};\n",
              "scope.google.colab._files = {\n",
              "  _uploadFiles,\n",
              "  _uploadFilesContinue,\n",
              "};\n",
              "})(self);\n",
              "</script> "
            ]
          },
          "metadata": {}
        },
        {
          "output_type": "stream",
          "name": "stdout",
          "text": [
            "Saving 2024_applicants_1.csv to 2024_applicants_1 (1).csv\n",
            "Saving 2024_participants_1.csv to 2024_participants_1 (1).csv\n"
          ]
        }
      ]
    },
    {
      "cell_type": "code",
      "execution_count": 4,
      "metadata": {
        "colab": {
          "base_uri": "https://localhost:8080/"
        },
        "id": "HxeC_mwgyS_-",
        "outputId": "6e082b23-b6aa-4d9d-d503-e70cb67c4429"
      },
      "outputs": [
        {
          "output_type": "stream",
          "name": "stdout",
          "text": [
            "<_csv.reader object at 0x7fab83cc0970>\n"
          ]
        }
      ],
      "source": [
        "import csv\n",
        "data = csv.reader(open('2024_applicants_1.csv'))\n",
        "print(data)"
      ]
    },
    {
      "cell_type": "code",
      "source": [
        "# timestamp만 추출하기\n",
        "import csv\n",
        "data = csv.reader(open('2024_applicants_1.csv'))\n",
        "next(data)\n",
        "app_time = []\n",
        "\n",
        "for row in data:\n",
        "    app_time.append(row[0])\n",
        "print(app_time)"
      ],
      "metadata": {
        "colab": {
          "base_uri": "https://localhost:8080/"
        },
        "id": "ed33an6Pz7d0",
        "outputId": "3bcc5c5e-fb8e-4cb7-b7dc-3b3bcf17269d"
      },
      "execution_count": 5,
      "outputs": [
        {
          "output_type": "stream",
          "name": "stdout",
          "text": [
            "['5-29-2024 19:14:51', '5-29-2024 21:25:34', '5-30-2024 16:50:03', '5-30-2024 17:10:04', '5-30-2024 22:31:51', '5-30-2024 22:46:26', '5-31-2024 15:34:11', '5-31-2024 20:46:42', '6-1-2024 16:10:15', '6-2-2024 15:15:56', '6-2-2024 17:25:50', '6-2-2024 20:24:01', '6-2-2024 22:54:50', '6-2-2024 23:18:35', '6-2-2024 23:37:59', '6-3-2024 0:23:53', '6-3-2024 0:25:17', '6-3-2024 7:18:41', '6-3-2024 7:46:14', '6-3-2024 22:48:26', '6-3-2024 23:18:31', '6-4-2024 1:05:52', '6-4-2024 6:58:37', '6-4-2024 16:04:43', '6-4-2024 16:16:30', '6-4-2024 21:17:50', '6-4-2024 23:05:41', '6-5-2024 0:03:44', '6-5-2024 0:08:15', '6-5-2024 1:45:51', '6-5-2024 19:20:37', '6-5-2024 22:33:34', '6-5-2024 22:48:19', '6-5-2024 23:43:23', '6-5-2024 23:52:58', '6-5-2024 23:57:05', '6-5-2024 23:59:55']\n"
          ]
        }
      ]
    },
    {
      "cell_type": "markdown",
      "source": [
        "### 날짜별 지원자수 파악하기"
      ],
      "metadata": {
        "id": "4HGLI87ysHpp"
      }
    },
    {
      "cell_type": "code",
      "source": [
        "import csv\n",
        "data = csv.reader(open('2024_applicants_1.csv'))\n",
        "next(data)\n",
        "\n",
        "# 지원일만 리스트로 만들기\n",
        "apply_day = []\n",
        "for row in data:\n",
        "    if row[0] != '':\n",
        "            apply_day.append(row[0][:9])\n",
        "# print(\"지원일: \",apply_day)\n",
        "\n",
        "dates= []\n",
        "for day in apply_day:\n",
        "    date = day.split('-')[0] + '-' + day.split('-')[1]\n",
        "    dates.append(date)\n",
        "print('지원일: ',dates)\n",
        "\n",
        "# 일자별 지원자 수를 딕셔너리로 만들기\n",
        "day_counts = {}\n",
        "for day in dates:\n",
        "\n",
        "    if day in day_counts:\n",
        "        day_counts[day] +=1\n",
        "    else:\n",
        "        day_counts[day] =1\n",
        "print('일자별 지원자 수: ', day_counts)\n"
      ],
      "metadata": {
        "colab": {
          "base_uri": "https://localhost:8080/"
        },
        "outputId": "69012f16-4d56-4749-ba2a-89343cfc8d11",
        "id": "CmCM5J8XDmO1"
      },
      "execution_count": 17,
      "outputs": [
        {
          "output_type": "stream",
          "name": "stdout",
          "text": [
            "지원일:  ['5-29', '5-29', '5-30', '5-30', '5-30', '5-30', '5-31', '5-31', '6-1', '6-2', '6-2', '6-2', '6-2', '6-2', '6-2', '6-3', '6-3', '6-3', '6-3', '6-3', '6-3', '6-4', '6-4', '6-4', '6-4', '6-4', '6-4', '6-5', '6-5', '6-5', '6-5', '6-5', '6-5', '6-5', '6-5', '6-5', '6-5']\n",
            "일자별 지원자 수:  {'5-29': 2, '5-30': 4, '5-31': 2, '6-1': 1, '6-2': 6, '6-3': 6, '6-4': 6, '6-5': 10}\n"
          ]
        }
      ]
    },
    {
      "cell_type": "code",
      "source": [
        "import matplotlib.pyplot as plt\n",
        "plt.figure(figsize=(10, 5))\n",
        "plt.title('일자별 지원자 수')\n",
        "plt.bar(day_counts.keys(), day_counts.values(), label ='지원자 수')\n",
        "plt.show()"
      ],
      "metadata": {
        "colab": {
          "base_uri": "https://localhost:8080/",
          "height": 466
        },
        "id": "soBmy79nuQHX",
        "outputId": "251dd7ff-561a-42e9-a686-113d226edfe9"
      },
      "execution_count": 14,
      "outputs": [
        {
          "output_type": "display_data",
          "data": {
            "text/plain": [
              "<Figure size 1000x500 with 1 Axes>"
            ],
            "image/png": "[encoded data removed]"
          },
          "metadata": {}
        }
      ]
    },
    {
      "cell_type": "markdown",
      "source": [
        "### 학급별 지원자수 파악하기"
      ],
      "metadata": {
        "id": "bM3qsQqmsc_D"
      }
    },
    {
      "cell_type": "code",
      "source": [
        "import csv\n",
        "data = csv.reader(open('2024_applicants_1.csv'))\n",
        "next(data)\n",
        "st_nums = []\n",
        "\n",
        "for row in data:\n",
        "    if row[1] != '':\n",
        "        st_nums.append(row[1][:3]) # 각 행 두번째열에서 첫 3자리까지 추출\n",
        "st_nums = sorted(st_nums)\n",
        "print(\"학년학급:\", st_nums)\n",
        "\n",
        "class_counts ={}\n",
        "for num in st_nums:\n",
        "    if num in class_counts: # 해당 학년 학급이 이미 딕셔너리에 있는지 확인하기\n",
        "        class_counts[num] +=1 # 있으면 값을 1씩 증가\n",
        "    else:\n",
        "        class_counts[num] = 1 # 없으면, 새로운 키-값 쌍을 추가\n",
        "print(\"학급별 신청자수:\", class_counts)\n",
        "\n",
        "\n",
        "# '학년- 학급', 한줄씩 출력하기\n",
        "formatted_class_counts ={}\n",
        "for key, value in class_counts.items():\n",
        "    formatted_key = \"{0}-{1}\".format(key[0], key[1:])\n",
        "    formatted_class_counts[formatted_key] = value\n",
        "\n",
        "print('-----------------------------')\n",
        "print('학급별 신청자 수는 다음과 같습니다.')\n",
        "for key, value in formatted_class_counts.items():\n",
        "    print(\"{}: {}\".format(key,value))\n"
      ],
      "metadata": {
        "colab": {
          "base_uri": "https://localhost:8080/"
        },
        "outputId": "7dd578a4-cbb0-4776-9abf-34674fbde179",
        "id": "_HLUXFi0_9wP"
      },
      "execution_count": 15,
      "outputs": [
        {
          "output_type": "stream",
          "name": "stdout",
          "text": [
            "학년학급: ['101', '101', '102', '102', '102', '102', '104', '104', '105', '105', '105', '105', '106', '106', '106', '107', '107', '108', '108', '108', '108', '108', '110', '111', '111', '111', '111', '111', '111', '111', '111', '111', '111', '111', '207', '208', '209']\n",
            "학급별 신청자수: {'101': 2, '102': 4, '104': 2, '105': 4, '106': 3, '107': 2, '108': 5, '110': 1, '111': 11, '207': 1, '208': 1, '209': 1}\n",
            "-----------------------------\n",
            "학급별 신청자 수는 다음과 같습니다.\n",
            "1-01: 2\n",
            "1-02: 4\n",
            "1-04: 2\n",
            "1-05: 4\n",
            "1-06: 3\n",
            "1-07: 2\n",
            "1-08: 5\n",
            "1-10: 1\n",
            "1-11: 11\n",
            "2-07: 1\n",
            "2-08: 1\n",
            "2-09: 1\n"
          ]
        }
      ]
    },
    {
      "cell_type": "code",
      "source": [
        "import matplotlib.pyplot as plt\n",
        "plt.figure(figsize =(10,5))\n",
        "plt.title(\"학급별 신청자 현황\")\n",
        "plt.bar(formatted_class_counts.keys(), formatted_class_counts.values(), label = '인원')\n",
        "plt.show()"
      ],
      "metadata": {
        "colab": {
          "base_uri": "https://localhost:8080/",
          "height": 466
        },
        "id": "28toaX8Zwo8p",
        "outputId": "ab6d2b3f-d7bc-4ece-cd97-aec55747ab09"
      },
      "execution_count": 9,
      "outputs": [
        {
          "output_type": "display_data",
          "data": {
            "text/plain": [
              "<Figure size 1000x500 with 1 Axes>"
            ],
            "image/png": "[encoded data removed]"
          },
          "metadata": {}
        }
      ]
    },
    {
      "cell_type": "markdown",
      "source": [
        "### pandas로 신청자_일자별 파악"
      ],
      "metadata": {
        "id": "CA3PkDiq5LCd"
      }
    },
    {
      "cell_type": "markdown",
      "source": [
        "pandas 라이브러리의 groupby()사용\n",
        "- by: 그룹화할 기준이 되는 열 또는 열의 리스트"
      ],
      "metadata": {
        "id": "0-tuuoVvjnEL"
      }
    },
    {
      "cell_type": "code",
      "source": [
        "# pandas의 groupby()\n",
        "import pandas as pd\n",
        "data = pd.read_csv('2024_applicants_1.csv')\n",
        "data['타임스탬프'] = pd.to_datetime(data['타임스탬프'])\n",
        "data['신청일'] = data['타임스탬프'].dt.date\n",
        "grouped_df = data.groupby('신청일')"
      ],
      "metadata": {
        "id": "uQ71BzoD4AX8"
      },
      "execution_count": 10,
      "outputs": []
    },
    {
      "cell_type": "code",
      "source": [
        "daily__applicants_1 = grouped_df.size()\n",
        "print(daily__applicants_1)"
      ],
      "metadata": {
        "colab": {
          "base_uri": "https://localhost:8080/"
        },
        "id": "6D_-mJiS42S1",
        "outputId": "a776ed73-8953-4e1e-93d9-0162f58498f2"
      },
      "execution_count": 11,
      "outputs": [
        {
          "output_type": "stream",
          "name": "stdout",
          "text": [
            "신청일\n",
            "2024-05-29     2\n",
            "2024-05-30     4\n",
            "2024-05-31     2\n",
            "2024-06-01     1\n",
            "2024-06-02     6\n",
            "2024-06-03     6\n",
            "2024-06-04     6\n",
            "2024-06-05    10\n",
            "dtype: int64\n"
          ]
        }
      ]
    }
  ]
}